{
 "cells": [
  {
   "cell_type": "code",
   "execution_count": 1,
   "id": "0ac77ca2-3102-4e49-a756-f85e900cbf21",
   "metadata": {
    "tags": []
   },
   "outputs": [],
   "source": [
    "# Import necessary libraries.\n",
    "from bs4 import BeautifulSoup\n",
    "import requests\n",
    "import time\n",
    "import datetime\n",
    "import pandas as pd\n",
    "\n",
    "# This sends information to specified email, but is not required.\n",
    "import smtplib"
   ]
  },
  {
   "cell_type": "code",
   "execution_count": 2,
   "id": "b2a634f1-dbf9-42a7-9443-3010e491ae19",
   "metadata": {
    "tags": []
   },
   "outputs": [
    {
     "name": "stdout",
     "output_type": "stream",
     "text": [
      "Scythe by Neal Shusterman, published on November 22, 2016. Rating: 4.33\n",
      "Synopsis:\n",
      "Thou shalt kill. A world with no hunger, no disease, no war, no misery. Humanity has conquered all those things, and has even conquered death. Now scythes are the only ones who can end life—and they are commanded to do so, in order to keep the size of the population under control. Citra and Rowan are chosen to apprentice to a scythe—a role that neither wants. These teens must master the “art” of taking life, knowing that the consequence of failure could mean losing their own. An alternate cover edition of ISBN: 9781442472426\n"
     ]
    }
   ],
   "source": [
    "# Now, connect to our website to pull data. Chosen site is \n",
    "\n",
    "URL = 'https://www.goodreads.com/book/show/28954189-scythe'\n",
    "\n",
    "headers = {\"User-Agent\":\"Mozilla/5.0 (Windows NT 10.0; Win64; x64; rv:126.0) Gecko/20100101 Firefox/126.0\"}\n",
    "\n",
    "page = requests.get(URL, headers=headers)\n",
    "\n",
    "soup1 = BeautifulSoup(page.content, \"html.parser\")\n",
    "\n",
    "soup2 = BeautifulSoup(soup1.prettify(), \"html.parser\")\n",
    "\n",
    "title = soup2.find(\"h1\").get_text().strip()\n",
    "rating = soup2.find(\"div\", \"RatingStatistics__rating\").get_text().strip()\n",
    "author = soup2.find(\"span\", \"ContributorLink__name\").get_text().strip()\n",
    "\n",
    "published = soup2.find(\"div\", \"FeaturedDetails\").get_text().strip()\n",
    "published = published[published.index('published')+10:]\n",
    "\n",
    "summ = soup2.find(\"span\", \"Formatted\").get_text().strip()\n",
    "synop = \" \".join(summ.split())\n",
    "\n",
    "print(title, \"by\", author + ', published on', published + '.', \"Rating:\", rating)\n",
    "print('Synopsis:\\n' + synop)"
   ]
  },
  {
   "cell_type": "code",
   "execution_count": 3,
   "id": "d51c3f06-3277-4c09-9ef6-66572bff5e93",
   "metadata": {
    "tags": []
   },
   "outputs": [
    {
     "name": "stdout",
     "output_type": "stream",
     "text": [
      "Created on 2024-05-23\n"
     ]
    }
   ],
   "source": [
    "# Timestamp for when this was made.\n",
    "\n",
    "import datetime\n",
    "\n",
    "today = datetime.date.today()\n",
    "\n",
    "print(\"Created on\" , today)"
   ]
  },
  {
   "cell_type": "code",
   "execution_count": 4,
   "id": "f57f8c6c-2caf-4c45-b09b-7c893f8b0af7",
   "metadata": {
    "tags": []
   },
   "outputs": [],
   "source": [
    "# Now, bring data into a CSV file\n",
    "\n",
    "import csv \n",
    "\n",
    "header = ['Title', 'Author', 'Rating', 'Published', 'Synopsis', 'Last Checked']\n",
    "data = [title, author, rating, published, synop, today]\n",
    "\n",
    "# The below is done to create a new file. Do not run unless needed to restart/create from scratch\n",
    "#with open(r'C:\\Users\\erick\\Jupyter files\\GoodreadsScrapeDataset.csv', 'w', newline='', encoding='UTF8') as f:\n",
    "    #writer = csv.writer(f)\n",
    "    #writer.writerow(header)\n",
    "    #writer.writerow(data)"
   ]
  },
  {
   "cell_type": "code",
   "execution_count": 15,
   "id": "93558a62-be8e-48af-b5c9-5e4f6d8ab463",
   "metadata": {
    "tags": []
   },
   "outputs": [
    {
     "data": {
      "text/html": [
       "<div>\n",
       "<style scoped>\n",
       "    .dataframe tbody tr th:only-of-type {\n",
       "        vertical-align: middle;\n",
       "    }\n",
       "\n",
       "    .dataframe tbody tr th {\n",
       "        vertical-align: top;\n",
       "    }\n",
       "\n",
       "    .dataframe thead th {\n",
       "        text-align: right;\n",
       "    }\n",
       "</style>\n",
       "<table border=\"1\" class=\"dataframe\">\n",
       "  <thead>\n",
       "    <tr style=\"text-align: right;\">\n",
       "      <th></th>\n",
       "      <th>Title</th>\n",
       "      <th>Author</th>\n",
       "      <th>Rating</th>\n",
       "      <th>Published</th>\n",
       "      <th>Synopsis</th>\n",
       "      <th>Last Checked</th>\n",
       "    </tr>\n",
       "  </thead>\n",
       "  <tbody>\n",
       "    <tr>\n",
       "      <th>0</th>\n",
       "      <td>Scythe</td>\n",
       "      <td>Neal Shusterman</td>\n",
       "      <td>4.33</td>\n",
       "      <td>November 22, 2016</td>\n",
       "      <td>Thou shalt kill. A world with no hunger, no di...</td>\n",
       "      <td>2024-05-23</td>\n",
       "    </tr>\n",
       "    <tr>\n",
       "      <th>1</th>\n",
       "      <td>Scythe</td>\n",
       "      <td>Neal Shusterman</td>\n",
       "      <td>4.33</td>\n",
       "      <td>November 22, 2016</td>\n",
       "      <td>Thou shalt kill. A world with no hunger, no di...</td>\n",
       "      <td>2024-05-23</td>\n",
       "    </tr>\n",
       "    <tr>\n",
       "      <th>2</th>\n",
       "      <td>Scythe</td>\n",
       "      <td>Neal Shusterman</td>\n",
       "      <td>4.33</td>\n",
       "      <td>November 22, 2016</td>\n",
       "      <td>Thou shalt kill. A world with no hunger, no di...</td>\n",
       "      <td>2024-05-23</td>\n",
       "    </tr>\n",
       "    <tr>\n",
       "      <th>3</th>\n",
       "      <td>Scythe</td>\n",
       "      <td>Neal Shusterman</td>\n",
       "      <td>4.33</td>\n",
       "      <td>November 22, 2016</td>\n",
       "      <td>Thou shalt kill. A world with no hunger, no di...</td>\n",
       "      <td>2024-05-23</td>\n",
       "    </tr>\n",
       "    <tr>\n",
       "      <th>4</th>\n",
       "      <td>Scythe</td>\n",
       "      <td>Neal Shusterman</td>\n",
       "      <td>4.33</td>\n",
       "      <td>November 22, 2016</td>\n",
       "      <td>Thou shalt kill. A world with no hunger, no di...</td>\n",
       "      <td>2024-05-23</td>\n",
       "    </tr>\n",
       "  </tbody>\n",
       "</table>\n",
       "</div>"
      ],
      "text/plain": [
       "    Title           Author  Rating          Published  \\\n",
       "0  Scythe  Neal Shusterman    4.33  November 22, 2016   \n",
       "1  Scythe  Neal Shusterman    4.33  November 22, 2016   \n",
       "2  Scythe  Neal Shusterman    4.33  November 22, 2016   \n",
       "3  Scythe  Neal Shusterman    4.33  November 22, 2016   \n",
       "4  Scythe  Neal Shusterman    4.33  November 22, 2016   \n",
       "\n",
       "                                            Synopsis Last Checked  \n",
       "0  Thou shalt kill. A world with no hunger, no di...   2024-05-23  \n",
       "1  Thou shalt kill. A world with no hunger, no di...   2024-05-23  \n",
       "2  Thou shalt kill. A world with no hunger, no di...   2024-05-23  \n",
       "3  Thou shalt kill. A world with no hunger, no di...   2024-05-23  \n",
       "4  Thou shalt kill. A world with no hunger, no di...   2024-05-23  "
      ]
     },
     "execution_count": 15,
     "metadata": {},
     "output_type": "execute_result"
    }
   ],
   "source": [
    "# We display the data here for our convenience\n",
    "\n",
    "df = pd.read_csv(r'C:\\Users\\erick\\Jupyter files\\GoodreadsScrapeDataset.csv')\n",
    "df.head()"
   ]
  },
  {
   "cell_type": "code",
   "execution_count": 17,
   "id": "772436ad-35d8-449d-9e49-36d3d699cd09",
   "metadata": {},
   "outputs": [],
   "source": [
    "# This adds a new row from the site onto here.\n",
    "\n",
    "with open(r'C:\\Users\\erick\\Jupyter files\\GoodreadsScrapeDataset.csv', 'a+', newline='', encoding='UTF8') as f:\n",
    "    writer = csv.writer(f)\n",
    "    writer.writerow(data)\n"
   ]
  },
  {
   "cell_type": "code",
   "execution_count": 9,
   "id": "ca21b87a-ddde-4572-a7fd-49e3cf7b0d4b",
   "metadata": {
    "tags": []
   },
   "outputs": [],
   "source": [
    "# To complete all of the above in one go, we set up a function\n",
    "\n",
    "def book_status():\n",
    "    URL = 'https://www.goodreads.com/book/show/28954189-scythe'\n",
    "\n",
    "    headers = {\"User-Agent\":\"Mozilla/5.0 (Windows NT 10.0; Win64; x64; rv:126.0) Gecko/20100101 Firefox/126.0\"}\n",
    "\n",
    "    page = requests.get(URL, headers=headers)\n",
    "\n",
    "    soup1 = BeautifulSoup(page.content, \"html.parser\")\n",
    "\n",
    "    soup2 = BeautifulSoup(soup1.prettify(), \"html.parser\")\n",
    "\n",
    "    title = soup2.find(\"h1\").get_text().strip()\n",
    "    rating = soup2.find(\"div\", \"RatingStatistics__rating\").get_text().strip()\n",
    "    author = soup2.find(\"span\", \"ContributorLink__name\").get_text().strip()\n",
    "\n",
    "    published = soup2.find(\"div\", \"FeaturedDetails\").get_text().strip()\n",
    "    published = published[published.index('published')+10:]\n",
    "\n",
    "    summ = soup2.find(\"span\", \"Formatted\").get_text().strip()\n",
    "    synop = \" \".join(summ.split())\n",
    "\n",
    "    today = datetime.date.today()\n",
    "    \n",
    "    header = ['Title', 'Author', 'Rating', 'Published', 'Synopsis', 'Last Checked']\n",
    "    data = [title, author, rating, published, synop, today]\n",
    "\n",
    "\n",
    "    with open(r'C:\\Users\\erick\\Jupyter files\\GoodreadsScrapeDataset.csv', 'a+', newline='', encoding='UTF8') as f:\n",
    "        writer = csv.writer(f)\n",
    "        writer.writerow(data)"
   ]
  },
  {
   "cell_type": "code",
   "execution_count": 12,
   "id": "1b238055-117b-4b54-9fe3-f02fbe9f2617",
   "metadata": {
    "tags": []
   },
   "outputs": [
    {
     "name": "stdout",
     "output_type": "stream",
     "text": [
      "Stopped\n"
     ]
    }
   ],
   "source": [
    "# This automates the above function. It will be checked every 10 days.\n",
    "\n",
    "while(True):\n",
    "    book_status()\n",
    "    time.sleep(864000)"
   ]
  }
 ],
 "metadata": {
  "kernelspec": {
   "display_name": "Python 3 (ipykernel)",
   "language": "python",
   "name": "python3"
  },
  "language_info": {
   "codemirror_mode": {
    "name": "ipython",
    "version": 3
   },
   "file_extension": ".py",
   "mimetype": "text/x-python",
   "name": "python",
   "nbconvert_exporter": "python",
   "pygments_lexer": "ipython3",
   "version": "3.11.5"
  }
 },
 "nbformat": 4,
 "nbformat_minor": 5
}
